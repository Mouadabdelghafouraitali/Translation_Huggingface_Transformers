{
 "cells": [
  {
   "cell_type": "code",
   "execution_count": 2,
   "metadata": {},
   "outputs": [
    {
     "name": "stdout",
     "output_type": "stream",
     "text": [
      "أحب قراءة الكتب\n"
     ]
    }
   ],
   "source": [
    "import sys\n",
    "from transformers import AutoModelWithLMHead, AutoTokenizer\n",
    "from transformers import pipeline\n",
    "\n",
    "\n",
    "\n",
    "iso_input_lang = \"en\" #English\n",
    "iso_output_lang = \"ar\" #Arabic\n",
    "\n",
    "#Source : https://en.wikipedia.org/wiki/List_of_ISO_639-1_codes\n",
    "\n",
    "mname = \"Helsinki-NLP/opus-mt-\" + iso_input_lang + \"-\" + iso_output_lang\n",
    "model = AutoModelWithLMHead.from_pretrained(mname)\n",
    "tokenizer = AutoTokenizer.from_pretrained(mname)\n",
    "translation = pipeline(\"translation_\" + iso_input_lang + \"_to_\" + iso_output_lang, model=model, tokenizer=tokenizer)\n",
    "text = \"I like reading books\"\n",
    "translated_text = translation(text, max_length=40)[0]['translation_text']\n",
    "print(translated_text)                       "
   ]
  },
  {
   "cell_type": "code",
   "execution_count": null,
   "metadata": {},
   "outputs": [],
   "source": []
  }
 ],
 "metadata": {
  "kernelspec": {
   "display_name": "Python 3",
   "language": "python",
   "name": "python3"
  },
  "language_info": {
   "codemirror_mode": {
    "name": "ipython",
    "version": 3
   },
   "file_extension": ".py",
   "mimetype": "text/x-python",
   "name": "python",
   "nbconvert_exporter": "python",
   "pygments_lexer": "ipython3",
   "version": "3.8.10"
  }
 },
 "nbformat": 4,
 "nbformat_minor": 4
}
